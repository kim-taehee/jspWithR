{
 "cells": [
  {
   "cell_type": "code",
   "execution_count": 1,
   "metadata": {},
   "outputs": [],
   "source": [
    "import os \n",
    "import sys \n",
    "\n",
    "sys.path.append('C:/Program Files/Anaconda3/Lib/site-packages')\n",
    "sys.path.append('C:/Program Files (x86)/Microsoft Visual Studio/Shared/Anaconda3_64/lib/site-packages')\n",
    "\n",
    "\n",
    "import time \n",
    "import psutil \n",
    "import logging \n",
    "import pyautogui as pgui \n",
    "from datetime import datetime \n",
    "import pyautocad"
   ]
  },
  {
   "cell_type": "code",
   "execution_count": 21,
   "metadata": {},
   "outputs": [],
   "source": [
    "#------------------------------------------------------------------------------- \n",
    "# Functions  \n",
    " \n",
    "def extractSelectedFormat(directory_path, file_extension='dwg'):       \n",
    "    # This function extracts all the files of the selected format from the \n",
    "    # directory specified in the variable data_wd. Format is recognized through the extension. \n",
    "    # not important\n",
    "     \n",
    "    files = os.listdir(directory_path)\n",
    "    files = [file for file in files if file.split('.')[1] == file_extension] \n",
    "    files = [os.path.join(directory_path, file) for file in files] \n",
    "    return files \n",
    "         \n",
    "     \n",
    "def checkExist(directory_path ,file_name):      \n",
    "    # Checks if the file file_name exists \n",
    "    # not important\n",
    "     \n",
    "    files = os.listdir(directory_path) \n",
    "    printed = file_name in files \n",
    "    return printed \n",
    "\n",
    "def checkProgram(p_name):  # why need it?\n",
    "    # Checks if the program p_name is currently running. \n",
    "    # \n",
    "    # Arguments: \n",
    "    #   p_name - string - name of the program. Example: 'acad.exe' \n",
    "    # Returns: True if the program is running, False otherwise. \n",
    "    # \n",
    "     \n",
    "    processes = [psutil.Process(p) for p in psutil.pids()] \n",
    "    processes = [p.name().lower() for p in processes] \n",
    "    if p_name in processes: \n",
    "        return True \n",
    "    else: \n",
    "        return False \n",
    "\n",
    "\n",
    "def print_file_pdf(file_path, directory_path, logger): \n",
    "    # Prints to pdf all the dwg files in the path specified \n",
    "    #   logger - a logger. \n",
    "    #   Returns: exit_status - int - 1 if Critical error occurred, 0 otherwise \n",
    "    #  \n",
    "     \n",
    "    file_name = file_path.split(\"\\\\\")[-1]                        # Get name of the file \n",
    "    file_name_pdf = file_name.replace(\"dwg\", \"pdf\")              # Get name of the output file \n",
    "    is_printed = checkExist(directory_path, file_name_pdf)       # Check if already existing \n",
    "    exit_status = 0                                              # 1 only if critical error occurs \n",
    "     \n",
    "    if not is_printed:     \n",
    "         \n",
    "        program_runs = checkProgram(\"acad.exe\")   \n",
    "        # 서버에서 autocad를 실행시키거나, 프로그램이 클라이언트로 와야함 \n",
    "        # but client에서 실행하면 DRM이 문제가 생김\n",
    "        # Opens file with default program (Autocad for .dwg files). \n",
    "        # If opening fails, returns 1, else 0. \n",
    "        exit_status = os.system(\" \".join([\"start\", file_path])) \n",
    "         \n",
    "        if exit_status == 0: \n",
    "            if program_runs: \n",
    "                time.sleep(5) \n",
    "            else: \n",
    "                # Autocad is slow to start up if it is not already running. \n",
    "                time.sleep(30) \n",
    "             \n",
    "            print(\" \".join([\"Now printing file\", file_name])) \n",
    "             \n",
    "            # Starting printing sequence \n",
    "            pgui.hotkey(\"ctrl\",\"p\") \n",
    "            pgui.typewrite(\"mi\") \n",
    "            pgui.keyDown(\"enter\") \n",
    "            pgui.keyUp(\"enter\") \n",
    "            time.sleep(1) \n",
    "            pgui.typewrite(file_name_pdf) \n",
    "            pgui.keyDown(\"enter\") \n",
    "            pgui.keyUp(\"enter\") \n",
    "            time.sleep(3) \n",
    "            # Closing current drawing \n",
    "            pgui.hotkey(\"ctrl\", \"F4\") \n",
    "            pgui.keyDown(\"n\") \n",
    "            pgui.keyUp(\"n\") \n",
    "         \n",
    "            is_printed = check_file_exist(directory_path, file_name_pdf) \n",
    "            if is_printed: \n",
    "                logger.log(logging.INFO, \" \".join([\"Printed\", file_name])) \n",
    "            else: \n",
    "                logger.log(logging.CRITICAL, \" \".join([\"NOT Printed\", file_name])) \n",
    "                exit_status = 1 \n",
    "        else: \n",
    "            logger.log(logging.ERROR, \"\".join([\"Could not open \", file_name])) \n",
    "            logger.log(logging.ERROR, \" \".join([\"NOT Printed\", file_name])) \n",
    "    else: \n",
    "        logger.log(logging.INFO, \" \".join([\"Already printed\", file_name])) \n",
    "      \n",
    "    time.sleep(1) \n",
    "     \n",
    "    return exit_status \n",
    "\n",
    " \n",
    "def handle_critical_errors(error_count, check_at_count=2): \n",
    "     \n",
    "    # Two or more critical errors may indicate a severe malfunctioning in the  \n",
    "    # program. This function displays a confirmation box asking the user if \n",
    "    # they want to continue or stop the program after check_at_count critical \n",
    "    # errors occurred. \n",
    "    # \n",
    "    # Arguments: \n",
    "    #   error_count - string - count of the critical errors. \n",
    "    #   check_at_count - int - check after check_at_count critical errors occurred. \n",
    "    #  \n",
    "    #   Returns: void \n",
    "    #  \n",
    "    if error_count >= check_at_count: \n",
    "        value = pgui.confirm(\"\"\"2 or more critical errors have occurred. \n",
    "                             Would you like to continue (click \"ok\") \n",
    "                             or cancel?\"\"\") \n",
    "        if value == 'Cancel': \n",
    "            sys.exit() \n",
    "\n",
    "\n"
   ]
  },
  {
   "cell_type": "code",
   "execution_count": 20,
   "metadata": {},
   "outputs": [
    {
     "name": "stdout",
     "output_type": "stream",
     "text": [
      "\n",
      "Following files will be printed: [['C:\\\\Users\\\\mando\\\\Desktop\\\\ocr\\\\도면\\\\BE600-EAC-XXI_SK3.dwg', 'C:\\\\Users\\\\mando\\\\Desktop\\\\ocr\\\\도면\\\\BE600EBYXX_F.dwg', 'C:\\\\Users\\\\mando\\\\Desktop\\\\ocr\\\\도면\\\\BE600EBYXX_F_00.dwg', 'C:\\\\Users\\\\mando\\\\Desktop\\\\ocr\\\\도면\\\\BE600PY4XX_G.dwg', 'C:\\\\Users\\\\mando\\\\Desktop\\\\ocr\\\\도면\\\\BH290019XX_Y.dwg', 'C:\\\\Users\\\\mando\\\\Desktop\\\\ocr\\\\도면\\\\BH290019XX_Y_00.dwg', 'C:\\\\Users\\\\mando\\\\Desktop\\\\ocr\\\\도면\\\\BH290023XX_P.dwg', 'C:\\\\Users\\\\mando\\\\Desktop\\\\ocr\\\\도면\\\\BH290023XX_P_00.dwg', 'C:\\\\Users\\\\mando\\\\Desktop\\\\ocr\\\\도면\\\\도면 개선안_00.dwg']]\n"
     ]
    },
    {
     "ename": "NameError",
     "evalue": "name 'VERSION' is not defined",
     "output_type": "error",
     "traceback": [
      "\u001b[1;31m---------------------------------------------------------------------------\u001b[0m",
      "\u001b[1;31mNameError\u001b[0m                                 Traceback (most recent call last)",
      "\u001b[1;32m<ipython-input-20-9fb461c3d397>\u001b[0m in \u001b[0;36m<module>\u001b[1;34m\u001b[0m\n\u001b[0;32m     14\u001b[0m     \u001b[0merror_count\u001b[0m \u001b[1;33m=\u001b[0m \u001b[1;36m0\u001b[0m\u001b[1;33m\u001b[0m\u001b[1;33m\u001b[0m\u001b[0m\n\u001b[0;32m     15\u001b[0m     \u001b[0mlogging\u001b[0m\u001b[1;33m.\u001b[0m\u001b[0mbasicConfig\u001b[0m\u001b[1;33m(\u001b[0m\u001b[0mfilename\u001b[0m \u001b[1;33m=\u001b[0m \u001b[1;34m'logfile.log'\u001b[0m\u001b[1;33m,\u001b[0m \u001b[0mlevel\u001b[0m\u001b[1;33m=\u001b[0m\u001b[0mlogging\u001b[0m\u001b[1;33m.\u001b[0m\u001b[0mDEBUG\u001b[0m\u001b[1;33m)\u001b[0m\u001b[1;33m\u001b[0m\u001b[1;33m\u001b[0m\u001b[0m\n\u001b[1;32m---> 16\u001b[1;33m     \u001b[0mlogger\u001b[0m \u001b[1;33m=\u001b[0m \u001b[0mlogging\u001b[0m\u001b[1;33m.\u001b[0m\u001b[0mgetLogger\u001b[0m\u001b[1;33m(\u001b[0m\u001b[1;34m'DWG Printer bot V. {}'\u001b[0m\u001b[1;33m.\u001b[0m\u001b[0mformat\u001b[0m\u001b[1;33m(\u001b[0m\u001b[0mVERSION\u001b[0m\u001b[1;33m)\u001b[0m\u001b[1;33m)\u001b[0m\u001b[1;33m\u001b[0m\u001b[1;33m\u001b[0m\u001b[0m\n\u001b[0m\u001b[0;32m     17\u001b[0m     logger.log(logging.INFO, \n\u001b[0;32m     18\u001b[0m                \"Program ran at {}. Directory chosen: {}\".format(time_stamp, data_wd)) \n",
      "\u001b[1;31mNameError\u001b[0m: name 'VERSION' is not defined"
     ]
    }
   ],
   "source": [
    "#------------------------------------------------------------------------------- \n",
    "# Main \n",
    "\n",
    " \n",
    "if __name__ == '__main__': \n",
    "     \n",
    "    # Setting input data directory \n",
    "    data_wd = \"C:\\\\Users\\\\mando\\\\Desktop\\\\ocr\\\\도면\" \n",
    "    full_file_path = extractSelectedFormat(data_wd) \n",
    "    print(\"\\nFollowing files will be printed: {}\".format([full_file_path])) \n",
    "     \n",
    "    pgui.PAUSE = 0.5 \n",
    "    time_stamp = datetime.now().strftime('%Y-%m-%d %H:%M:%S') \n",
    "    error_count = 0 \n",
    "    logging.basicConfig(filename = 'logfile.log', level=logging.DEBUG) \n",
    "    logger = logging.getLogger('DWG Printer bot V. {}'.format(VERSION))  # version from autocad\n",
    "    logger.log(logging.INFO, \n",
    "               \"Program ran at {}. Directory chosen: {}\".format(time_stamp, data_wd)) \n",
    "\n",
    " \n",
    "    # Start printing \n",
    "     \n",
    "    for file in full_file_path: \n",
    "        try: \n",
    "            error_count += print_file_pdf(file, data_wd, logger) \n",
    "            print(\"Exiting current printing call...\\n\") \n",
    "            handle_critical_errors(error_count, 2) \n",
    "        except Exception as e: \n",
    "            print(str(e)) \n",
    "    \n",
    "    final_time_stamp = datetime.now().strftime('%Y-%m-%d %H:%M:%S') \n",
    "    logger.log(logging.INFO, \"Program ended at {}\\n\\n\".format(final_time_stamp)) \n",
    "    pgui.alert(\"Job ended!\") \n"
   ]
  },
  {
   "cell_type": "code",
   "execution_count": null,
   "metadata": {},
   "outputs": [],
   "source": [
    "# where is VERSION? , cant read by DRM?"
   ]
  },
  {
   "cell_type": "code",
   "execution_count": null,
   "metadata": {},
   "outputs": [],
   "source": []
  },
  {
   "cell_type": "code",
   "execution_count": null,
   "metadata": {},
   "outputs": [],
   "source": []
  },
  {
   "cell_type": "markdown",
   "metadata": {},
   "source": [
    "## choice2"
   ]
  },
  {
   "cell_type": "code",
   "execution_count": 8,
   "metadata": {},
   "outputs": [],
   "source": [
    "import dxfgrabber \n",
    "import cv2 \n",
    "import numpy as np \n",
    "import sys \n"
   ]
  },
  {
   "cell_type": "code",
   "execution_count": 9,
   "metadata": {},
   "outputs": [],
   "source": [
    "def getMinXY(shapes): \n",
    "    minX, minY = 99999, 99999 \n",
    "    for shape in shapes: \n",
    "        if shape.dxftype == 'LINE': \n",
    "            minX = min(minX, shape.start[0], shape.end[0]) \n",
    "            minY = min(minY, shape.start[1], shape.end[1]) \n",
    "        elif shape.dxftype == 'ARC': \n",
    "            minX = min(minX, shape.center[0]) \n",
    "            minY = min(minY, shape.center[1]) \n",
    "\n",
    " \n",
    "    return minX, minY \n"
   ]
  },
  {
   "cell_type": "code",
   "execution_count": 10,
   "metadata": {},
   "outputs": [],
   "source": [
    "def getMaxXY(shapes): \n",
    "    maxX, maxY = -99999, -99999 \n",
    "    for shape in shapes: \n",
    "        if shape.dxftype == 'LINE': \n",
    "            maxX = max(maxX, shape.start[0], shape.end[0]) \n",
    "            maxY = max(maxY, shape.start[1], shape.end[1]) \n",
    "        elif shape.dxftype == 'ARC': \n",
    "            maxX = max(maxX, shape.center[0]) \n",
    "            maxY = max(maxY, shape.center[1]) \n",
    "\n",
    " \n",
    "    return maxX, maxY \n"
   ]
  },
  {
   "cell_type": "code",
   "execution_count": 12,
   "metadata": {},
   "outputs": [
    {
     "ename": "FileNotFoundError",
     "evalue": "[Errno 2] No such file or directory: '-f'",
     "output_type": "error",
     "traceback": [
      "\u001b[1;31m---------------------------------------------------------------------------\u001b[0m",
      "\u001b[1;31mFileNotFoundError\u001b[0m                         Traceback (most recent call last)",
      "\u001b[1;32m<ipython-input-12-83db3f32f817>\u001b[0m in \u001b[0;36m<module>\u001b[1;34m\u001b[0m\n\u001b[0;32m      4\u001b[0m \u001b[1;33m\u001b[0m\u001b[0m\n\u001b[0;32m      5\u001b[0m \u001b[1;33m\u001b[0m\u001b[0m\n\u001b[1;32m----> 6\u001b[1;33m \u001b[0mdxf\u001b[0m \u001b[1;33m=\u001b[0m \u001b[0mdxfgrabber\u001b[0m\u001b[1;33m.\u001b[0m\u001b[0mreadfile\u001b[0m\u001b[1;33m(\u001b[0m\u001b[0msys\u001b[0m\u001b[1;33m.\u001b[0m\u001b[0margv\u001b[0m\u001b[1;33m[\u001b[0m\u001b[1;36m1\u001b[0m\u001b[1;33m]\u001b[0m\u001b[1;33m)\u001b[0m\u001b[1;33m\u001b[0m\u001b[1;33m\u001b[0m\u001b[0m\n\u001b[0m\u001b[0;32m      7\u001b[0m \u001b[0mshapes\u001b[0m \u001b[1;33m=\u001b[0m \u001b[0mdxf\u001b[0m\u001b[1;33m.\u001b[0m\u001b[0mentities\u001b[0m\u001b[1;33m.\u001b[0m\u001b[0mget_entities\u001b[0m\u001b[1;33m(\u001b[0m\u001b[1;33m)\u001b[0m\u001b[1;33m\u001b[0m\u001b[1;33m\u001b[0m\u001b[0m\n\u001b[0;32m      8\u001b[0m \u001b[0mminX\u001b[0m\u001b[1;33m,\u001b[0m \u001b[0mminY\u001b[0m \u001b[1;33m=\u001b[0m \u001b[0mgetMinXY\u001b[0m\u001b[1;33m(\u001b[0m\u001b[0mshapes\u001b[0m\u001b[1;33m)\u001b[0m\u001b[1;33m\u001b[0m\u001b[1;33m\u001b[0m\u001b[0m\n",
      "\u001b[1;32mC:/Program Files (x86)/Microsoft Visual Studio/Shared/Anaconda3_64/lib/site-packages\\dxfgrabber\\__init__.py\u001b[0m in \u001b[0;36mreadfile\u001b[1;34m(filename, options)\u001b[0m\n\u001b[0;32m     41\u001b[0m \u001b[1;32mdef\u001b[0m \u001b[0mreadfile\u001b[0m\u001b[1;33m(\u001b[0m\u001b[0mfilename\u001b[0m\u001b[1;33m,\u001b[0m \u001b[0moptions\u001b[0m\u001b[1;33m=\u001b[0m\u001b[1;32mNone\u001b[0m\u001b[1;33m)\u001b[0m\u001b[1;33m:\u001b[0m\u001b[1;33m\u001b[0m\u001b[1;33m\u001b[0m\u001b[0m\n\u001b[0;32m     42\u001b[0m     \u001b[1;32mtry\u001b[0m\u001b[1;33m:\u001b[0m  \u001b[1;31m# is it ascii code-page encoded?\u001b[0m\u001b[1;33m\u001b[0m\u001b[1;33m\u001b[0m\u001b[0m\n\u001b[1;32m---> 43\u001b[1;33m         \u001b[1;32mreturn\u001b[0m \u001b[0mreadfile_as_asc\u001b[0m\u001b[1;33m(\u001b[0m\u001b[0mfilename\u001b[0m\u001b[1;33m,\u001b[0m \u001b[0moptions\u001b[0m\u001b[1;33m)\u001b[0m\u001b[1;33m\u001b[0m\u001b[1;33m\u001b[0m\u001b[0m\n\u001b[0m\u001b[0;32m     44\u001b[0m     \u001b[1;32mexcept\u001b[0m \u001b[0mUnicodeDecodeError\u001b[0m\u001b[1;33m:\u001b[0m  \u001b[1;31m# try unicode and ignore errors\u001b[0m\u001b[1;33m\u001b[0m\u001b[1;33m\u001b[0m\u001b[0m\n\u001b[0;32m     45\u001b[0m         \u001b[1;32mreturn\u001b[0m \u001b[0mreadfile_as_utf8\u001b[0m\u001b[1;33m(\u001b[0m\u001b[0mfilename\u001b[0m\u001b[1;33m,\u001b[0m \u001b[0moptions\u001b[0m\u001b[1;33m,\u001b[0m \u001b[0merrors\u001b[0m\u001b[1;33m=\u001b[0m\u001b[1;34m'ignore'\u001b[0m\u001b[1;33m)\u001b[0m\u001b[1;33m\u001b[0m\u001b[1;33m\u001b[0m\u001b[0m\n",
      "\u001b[1;32mC:/Program Files (x86)/Microsoft Visual Studio/Shared/Anaconda3_64/lib/site-packages\\dxfgrabber\\__init__.py\u001b[0m in \u001b[0;36mreadfile_as_asc\u001b[1;34m(filename, options)\u001b[0m\n\u001b[0;32m     56\u001b[0m         \u001b[1;32mreturn\u001b[0m \u001b[0minfo\u001b[0m\u001b[1;33m.\u001b[0m\u001b[0mencoding\u001b[0m\u001b[1;33m\u001b[0m\u001b[1;33m\u001b[0m\u001b[0m\n\u001b[0;32m     57\u001b[0m \u001b[1;33m\u001b[0m\u001b[0m\n\u001b[1;32m---> 58\u001b[1;33m     \u001b[1;32mreturn\u001b[0m \u001b[0m_read_encoded_file\u001b[0m\u001b[1;33m(\u001b[0m\u001b[0mfilename\u001b[0m\u001b[1;33m,\u001b[0m \u001b[0moptions\u001b[0m\u001b[1;33m,\u001b[0m \u001b[0mencoding\u001b[0m\u001b[1;33m=\u001b[0m\u001b[0mget_encoding\u001b[0m\u001b[1;33m(\u001b[0m\u001b[1;33m)\u001b[0m\u001b[1;33m)\u001b[0m\u001b[1;33m\u001b[0m\u001b[1;33m\u001b[0m\u001b[0m\n\u001b[0m\u001b[0;32m     59\u001b[0m \u001b[1;33m\u001b[0m\u001b[0m\n\u001b[0;32m     60\u001b[0m \u001b[1;33m\u001b[0m\u001b[0m\n",
      "\u001b[1;32mC:/Program Files (x86)/Microsoft Visual Studio/Shared/Anaconda3_64/lib/site-packages\\dxfgrabber\\__init__.py\u001b[0m in \u001b[0;36mget_encoding\u001b[1;34m()\u001b[0m\n\u001b[0;32m     52\u001b[0m \u001b[1;32mdef\u001b[0m \u001b[0mreadfile_as_asc\u001b[0m\u001b[1;33m(\u001b[0m\u001b[0mfilename\u001b[0m\u001b[1;33m,\u001b[0m \u001b[0moptions\u001b[0m\u001b[1;33m=\u001b[0m\u001b[1;32mNone\u001b[0m\u001b[1;33m)\u001b[0m\u001b[1;33m:\u001b[0m\u001b[1;33m\u001b[0m\u001b[1;33m\u001b[0m\u001b[0m\n\u001b[0;32m     53\u001b[0m     \u001b[1;32mdef\u001b[0m \u001b[0mget_encoding\u001b[0m\u001b[1;33m(\u001b[0m\u001b[1;33m)\u001b[0m\u001b[1;33m:\u001b[0m\u001b[1;33m\u001b[0m\u001b[1;33m\u001b[0m\u001b[0m\n\u001b[1;32m---> 54\u001b[1;33m         \u001b[1;32mwith\u001b[0m \u001b[0mio\u001b[0m\u001b[1;33m.\u001b[0m\u001b[0mopen\u001b[0m\u001b[1;33m(\u001b[0m\u001b[0mfilename\u001b[0m\u001b[1;33m)\u001b[0m \u001b[1;32mas\u001b[0m \u001b[0mfp\u001b[0m\u001b[1;33m:\u001b[0m\u001b[1;33m\u001b[0m\u001b[1;33m\u001b[0m\u001b[0m\n\u001b[0m\u001b[0;32m     55\u001b[0m             \u001b[0minfo\u001b[0m \u001b[1;33m=\u001b[0m \u001b[0mdxfinfo\u001b[0m\u001b[1;33m(\u001b[0m\u001b[0mfp\u001b[0m\u001b[1;33m)\u001b[0m\u001b[1;33m\u001b[0m\u001b[1;33m\u001b[0m\u001b[0m\n\u001b[0;32m     56\u001b[0m         \u001b[1;32mreturn\u001b[0m \u001b[0minfo\u001b[0m\u001b[1;33m.\u001b[0m\u001b[0mencoding\u001b[0m\u001b[1;33m\u001b[0m\u001b[1;33m\u001b[0m\u001b[0m\n",
      "\u001b[1;31mFileNotFoundError\u001b[0m: [Errno 2] No such file or directory: '-f'"
     ]
    }
   ],
   "source": [
    "def getXY(point): \n",
    "    x, y = point[0], point[1] \n",
    "    return int(x-minX+100), int(abs(y-maxY)+100) \n",
    "\n",
    " \n",
    "dxf = dxfgrabber.readfile(sys.argv[1]) \n",
    "shapes = dxf.entities.get_entities() \n",
    "minX, minY = getMinXY(shapes) \n",
    "maxX, maxY = getMaxXY(shapes) \n",
    "#baseX, baseY = absdiff(minX, 0), absdiff(minY, 0) \n",
    "#absMaxX, absMaxY = absdiff(maxX, 0), absdiff(maxY, 0) \n",
    "\n",
    " \n",
    "\n",
    "print(maxX, maxY) \n",
    "print(minX, minY) \n",
    "#print(absMaxX, absMaxY) \n",
    "#print(baseX, baseY) \n"
   ]
  },
  {
   "cell_type": "code",
   "execution_count": 14,
   "metadata": {},
   "outputs": [
    {
     "ename": "NameError",
     "evalue": "name 'shapes' is not defined",
     "output_type": "error",
     "traceback": [
      "\u001b[1;31m---------------------------------------------------------------------------\u001b[0m",
      "\u001b[1;31mNameError\u001b[0m                                 Traceback (most recent call last)",
      "\u001b[1;32m<ipython-input-14-14a7dce53c36>\u001b[0m in \u001b[0;36m<module>\u001b[1;34m\u001b[0m\n\u001b[0;32m      1\u001b[0m \u001b[0mcanvas\u001b[0m \u001b[1;33m=\u001b[0m \u001b[0mnp\u001b[0m\u001b[1;33m.\u001b[0m\u001b[0mzeros\u001b[0m\u001b[1;33m(\u001b[0m\u001b[1;33m(\u001b[0m\u001b[1;36m512\u001b[0m\u001b[1;33m,\u001b[0m\u001b[1;36m512\u001b[0m\u001b[1;33m,\u001b[0m\u001b[1;36m3\u001b[0m\u001b[1;33m)\u001b[0m\u001b[1;33m,\u001b[0m \u001b[0mnp\u001b[0m\u001b[1;33m.\u001b[0m\u001b[0muint8\u001b[0m\u001b[1;33m)\u001b[0m\u001b[1;33m\u001b[0m\u001b[1;33m\u001b[0m\u001b[0m\n\u001b[1;32m----> 2\u001b[1;33m \u001b[1;32mfor\u001b[0m \u001b[0mshape\u001b[0m \u001b[1;32min\u001b[0m \u001b[0mshapes\u001b[0m\u001b[1;33m:\u001b[0m\u001b[1;33m\u001b[0m\u001b[1;33m\u001b[0m\u001b[0m\n\u001b[0m\u001b[0;32m      3\u001b[0m     \u001b[1;32mif\u001b[0m \u001b[0mshape\u001b[0m\u001b[1;33m.\u001b[0m\u001b[0mdxftype\u001b[0m \u001b[1;33m==\u001b[0m \u001b[1;34m'LINE'\u001b[0m\u001b[1;33m:\u001b[0m\u001b[1;33m\u001b[0m\u001b[1;33m\u001b[0m\u001b[0m\n\u001b[0;32m      4\u001b[0m         \u001b[0mx1\u001b[0m\u001b[1;33m,\u001b[0m \u001b[0my1\u001b[0m \u001b[1;33m=\u001b[0m \u001b[0mgetXY\u001b[0m\u001b[1;33m(\u001b[0m\u001b[0mshape\u001b[0m\u001b[1;33m.\u001b[0m\u001b[0mstart\u001b[0m\u001b[1;33m)\u001b[0m\u001b[1;33m\u001b[0m\u001b[1;33m\u001b[0m\u001b[0m\n\u001b[0;32m      5\u001b[0m         \u001b[0mx2\u001b[0m\u001b[1;33m,\u001b[0m \u001b[0my2\u001b[0m \u001b[1;33m=\u001b[0m \u001b[0mgetXY\u001b[0m\u001b[1;33m(\u001b[0m\u001b[0mshape\u001b[0m\u001b[1;33m.\u001b[0m\u001b[0mend\u001b[0m\u001b[1;33m)\u001b[0m\u001b[1;33m\u001b[0m\u001b[1;33m\u001b[0m\u001b[0m\n",
      "\u001b[1;31mNameError\u001b[0m: name 'shapes' is not defined"
     ]
    }
   ],
   "source": [
    "canvas = np.zeros((512,512,3), np.uint8) \n",
    "for shape in shapes: \n",
    "    if shape.dxftype == 'LINE': \n",
    "        x1, y1 = getXY(shape.start) \n",
    "        x2, y2 = getXY(shape.end) \n",
    "        canvas = cv2.line(canvas, (x1,y1), (x2,y2), (255, 0, 255), 1) \n",
    "    elif shape.dxftype == 'ARC': \n",
    "        centerX, centerY = getXY(shape.center)         \n",
    "        if (shape.start_angle > 180) and (shape.end_angle < shape.start_angle): \n",
    "            canvas = cv2.ellipse(canvas, (centerX, centerY), (int(shape.radius), int(shape.radius)), 180, int(shape.start_angle) - 180, 180 + int(shape.end_angle), (0, 0, 255), 1) \n",
    "        else: \n",
    "            canvas = cv2.ellipse(canvas, (centerX, centerY), (int(shape.radius), int(shape.radius)), 0, int(360 - shape.start_angle), int(360 - shape.end_angle), (0, 0, 255), 1) \n",
    "    cv2.imshow('test', canvas) \n",
    "    cv2.waitKey(50) \n",
    "\n",
    "# To save canvas use cv2.imwrite() \n",
    "#cv2.imwrite('res.png', canvas) \n",
    "cv2.waitKey(0) \n",
    "cv2.destroyAllWindows() \n"
   ]
  },
  {
   "cell_type": "code",
   "execution_count": null,
   "metadata": {},
   "outputs": [],
   "source": []
  }
 ],
 "metadata": {
  "kernelspec": {
   "display_name": "Python 3",
   "language": "python",
   "name": "python3"
  },
  "language_info": {
   "codemirror_mode": {
    "name": "ipython",
    "version": 3
   },
   "file_extension": ".py",
   "mimetype": "text/x-python",
   "name": "python",
   "nbconvert_exporter": "python",
   "pygments_lexer": "ipython3",
   "version": "3.6.8"
  }
 },
 "nbformat": 4,
 "nbformat_minor": 2
}
