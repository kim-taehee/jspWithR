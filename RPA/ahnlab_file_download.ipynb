{
 "cells": [
  {
   "cell_type": "code",
   "execution_count": 2,
   "metadata": {},
   "outputs": [],
   "source": [
    "import selenium\n",
    "import requests\n",
    "from selenium import webdriver\n",
    "from selenium.webdriver.common.keys import Keys"
   ]
  },
  {
   "cell_type": "code",
   "execution_count": 3,
   "metadata": {},
   "outputs": [],
   "source": [
    "# Chrome의 경우 | 아까 받은 chromedriver의 위치를 지정해준다.\n",
    "driver = webdriver.Chrome('C:/Users/user/Downloads/chromedriver_win32/chromedriver')\n",
    "\n",
    "# user agent\n",
    "# user_agent = 'Mozilla/5.0 (Windows NT 6.1) AppleWebKit/537.36 (KHTML, like Gecko) Chrome/66.0.3359.139 Safari/537.36'\n",
    "\n",
    "# pjs_path = 'C:/Users/user/Downloads/phantomjs-2.1.1-windows/phantomjs-2.1.1-windows/bin/phantomjs.exe'\n",
    "# dcap = {\n",
    "#     \"phantomjs.page.settings.userAgent\" : user_agent,\n",
    "#     'marionette' : True\n",
    "# }\n",
    "# driver = webdriver.PhantomJS(executable_path=pjs_path, desired_capabilities=dcap)\n",
    "# driver = webdriver.PhantomJS('C:/Users/user/Downloads/phantomjs-2.1.1-windows/phantomjs-2.1.1-windows/bin/phantomjs.exe')"
   ]
  },
  {
   "cell_type": "code",
   "execution_count": 4,
   "metadata": {},
   "outputs": [],
   "source": [
    "# 잠시 시간을 준다.\n",
    "driver.implicitly_wait(3)"
   ]
  },
  {
   "cell_type": "code",
   "execution_count": 5,
   "metadata": {},
   "outputs": [],
   "source": [
    "driver.get('https://www.ahnlab.com/kr/site/login/loginForm.do')\n",
    "\n",
    "# driver.get('http://172.20.209.206:8003/Downloads/')\n",
    "\n",
    "driver.save_screenshot('test1.png')\n",
    "\n",
    "# 아이디/비밀번호를 입력해준다.\n",
    "driver.find_element_by_id('userid').send_keys('kyungkj')\n",
    "driver.find_element_by_id('passwd').send_keys('dbdgkq12#') \n",
    "\n",
    "# 로그인 버튼을 눌러주자.\n",
    "driver.find_element_by_xpath('//*[@id=\"loginForm\"]/div/div[1]/div[1]/a/span').click()\n",
    "\n",
    "# 엔진 다운로드 페이지 들어가기\n",
    "driver.get('https://www.ahnlab.com/kr/site/download/product/productEngineList.do')\n",
    "\n",
    "# driver.save_screenshot('click01.png')\n",
    "\n",
    "# driver.find_element_by_css_selector(\"#form > div.tList01.dlTable.mt20 > table > tbody > tr:nth-child(3) > td.smallCell > a\").click()\n",
    "\n",
    "driver.find_element_by_xpath(\"//*[@id='form']/div[3]/table/tbody/tr[3]/td[3]/a\").click()\n",
    "# 엔진 파일 다운로드 클릭\n",
    "# target = driver.find_element_by_xpath('//*[@id=\"form\"]/div[3]/table/tbody/tr[3]/td[3]/a')\n",
    "# target.click()\n",
    "# driver.save_screenshot('click02.png')\n",
    "\n",
    "# driver.find_element_by_xpath('//*[@id=\"form\"]/div[3]/table/tbody/tr[3]/td[3]/a').send_keys(Keys.ENTER)\n",
    "\n",
    "# element = driver.find_element_by_xpath('//*[@id=\"form\"]/div[3]/table/tbody/tr[3]/td[3]/a')\n",
    "# driver.execute_script(\"arguments[0].click();\", element)\n",
    "\n",
    "# driver.find_element_by_xpath(\"/html/body/ul/li[16]/a\").click()\n",
    "# driver.save_screenshot('test2.png')\n",
    "# driver.close()"
   ]
  },
  {
   "cell_type": "code",
   "execution_count": null,
   "metadata": {},
   "outputs": [],
   "source": [
    "\n"
   ]
  },
  {
   "cell_type": "code",
   "execution_count": null,
   "metadata": {},
   "outputs": [],
   "source": []
  }
 ],
 "metadata": {
  "kernelspec": {
   "display_name": "Python 3",
   "language": "python",
   "name": "python3"
  },
  "language_info": {
   "codemirror_mode": {
    "name": "ipython",
    "version": 3
   },
   "file_extension": ".py",
   "mimetype": "text/x-python",
   "name": "python",
   "nbconvert_exporter": "python",
   "pygments_lexer": "ipython3",
   "version": "3.6.4"
  }
 },
 "nbformat": 4,
 "nbformat_minor": 2
}
